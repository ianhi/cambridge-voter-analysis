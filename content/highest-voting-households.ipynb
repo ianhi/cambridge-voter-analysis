{
 "cells": [
  {
   "cell_type": "code",
   "execution_count": null,
   "id": "ba69c396-af57-469e-80b3-2efb02b7a628",
   "metadata": {},
   "outputs": [],
   "source": [
    "%matplotlib ipympl\n",
    "from datetime import timedelta\n",
    "\n",
    "import matplotlib.pyplot as plt\n",
    "import numpy as np\n",
    "import pandas as pd\n",
    "from plotting import *\n",
    "from processing import *"
   ]
  },
  {
   "cell_type": "code",
   "execution_count": null,
   "id": "da9fe4f8-cb96-4f0e-9e2c-4b709313d4f6",
   "metadata": {},
   "outputs": [],
   "source": [
    "voters = load_full_dataset(\"data\")"
   ]
  }
 ],
 "metadata": {
  "kernelspec": {
   "display_name": "Python 3 (ipykernel)",
   "language": "python",
   "name": "python3"
  },
  "language_info": {
   "codemirror_mode": {
    "name": "ipython",
    "version": 3
   },
   "file_extension": ".py",
   "mimetype": "text/x-python",
   "name": "python",
   "nbconvert_exporter": "python",
   "pygments_lexer": "ipython3",
   "version": "3.11.5"
  }
 },
 "nbformat": 4,
 "nbformat_minor": 5
}
