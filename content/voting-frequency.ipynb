{
 "cells": [
  {
   "cell_type": "code",
   "execution_count": null,
   "id": "3228d2fe-89df-467b-a66f-dede32af83c8",
   "metadata": {},
   "outputs": [],
   "source": [
    "# %matplotlib ipympl\n",
    "from datetime import timedelta\n",
    "\n",
    "import matplotlib.pyplot as plt\n",
    "import numpy as np\n",
    "import pandas as pd\n",
    "from plotting import *\n",
    "from processing import *"
   ]
  },
  {
   "cell_type": "code",
   "execution_count": null,
   "id": "27de95c3-33f1-4184-844e-1e2c471fb32a",
   "metadata": {},
   "outputs": [],
   "source": [
    "MUNICIPAL_YEARS = np.arange(2011, 2023, 2)\n",
    "STATE_YEARS = np.arange(2012, 2023, 2)\n",
    "NATIONAL_YEARS = np.arange(2012, 2023, 4)\n",
    "ALL_YEARS = np.arange(2011, 2023, 1)\n",
    "voters = load_full_dataset(\"data\")"
   ]
  },
  {
   "cell_type": "code",
   "execution_count": null,
   "id": "e9abac4b-4dcc-4049-bc7a-425554e2f4d7",
   "metadata": {},
   "outputs": [],
   "source": [
    "voters"
   ]
  },
  {
   "cell_type": "code",
   "execution_count": null,
   "id": "6b6a1569-d246-41b0-b37d-9a48308e64df",
   "metadata": {},
   "outputs": [],
   "source": [
    "voters.loc[pd.IndexSlice[:, \"03CTS1671000\"], :]"
   ]
  },
  {
   "cell_type": "code",
   "execution_count": null,
   "id": "11ac78b4-f214-4b79-a4ed-7545cebc7ee0",
   "metadata": {},
   "outputs": [],
   "source": [
    "new_df = (\n",
    "    pd.DataFrame(\n",
    "        {\n",
    "            \"local_elections\": voters.loc[MUNICIPAL_YEARS]\n",
    "            .reset_index()[\"Voter ID Number\"]\n",
    "            .value_counts(),\n",
    "            \"local_votes\": voters.loc[MUNICIPAL_YEARS]\n",
    "            .groupby(\"Voter ID Number\")[\"voted\"]\n",
    "            .sum(),\n",
    "            \"state_elections\": voters.loc[STATE_YEARS]\n",
    "            .reset_index()[\"Voter ID Number\"]\n",
    "            .value_counts(),\n",
    "            \"state_votes\": voters.loc[STATE_YEARS]\n",
    "            .groupby(\"Voter ID Number\")[\"voted\"]\n",
    "            .sum(),\n",
    "        },\n",
    "        dtype=int,\n",
    "    )\n",
    "    .fillna(0)\n",
    "    .astype(int)\n",
    "    .sort_values([\"local_elections\"], ascending=False)\n",
    ")\n",
    "# voters.loc[MUNICIPAL_YEARS].reset_index().groupby(\"Voter ID Number\")[\"voted\"].sum()"
   ]
  },
  {
   "cell_type": "code",
   "execution_count": null,
   "id": "27910618-0249-444d-84ec-8dd4834112a8",
   "metadata": {},
   "outputs": [],
   "source": []
  },
  {
   "cell_type": "code",
   "execution_count": null,
   "id": "0ca7ed19-da9f-4649-981a-570853652411",
   "metadata": {},
   "outputs": [],
   "source": [
    "unique_ids = voters.reset_index()[\"Voter ID Number\"].unique()\n",
    "# there must be a better way\n",
    "# but idk what that would be, so here we are\n",
    "most_recent_local = pd.Series(index=unique_ids)\n",
    "most_recent_state = pd.Series(index=unique_ids)\n",
    "\n",
    "for year in MUNICIPAL_YEARS:\n",
    "    most_recent_local.loc[\n",
    "        voters.loc[year][voters.loc[year][\"voted\"] == True].index\n",
    "    ] = year\n",
    "for year in STATE_YEARS:\n",
    "    print(year)\n",
    "    most_recent_state.loc[\n",
    "        voters.loc[year][voters.loc[year][\"voted\"] == True].index\n",
    "    ] = year"
   ]
  },
  {
   "cell_type": "code",
   "execution_count": null,
   "id": "d24b732f-6f46-4667-a81e-a97ec17a21ab",
   "metadata": {},
   "outputs": [],
   "source": [
    "most_recent_state = most_recent_state.dropna().astype(int)\n",
    "most_recent_local = most_recent_local.dropna().astype(int)"
   ]
  },
  {
   "cell_type": "code",
   "execution_count": null,
   "id": "e067f819-e193-4830-8d31-587f03172344",
   "metadata": {},
   "outputs": [],
   "source": [
    "cur_registered_df = pd.read_csv(\n",
    "    \"data/49VOT_281914.txt\", delimiter=\"|\", encoding=\"ISO-8859-1\"\n",
    ")\n",
    "cur_registered_df.rename(\n",
    "    {c: c.strip() for c in cur_registered_df.columns}, inplace=True, axis=1\n",
    ")\n",
    "cur_registered_df.rename(\n",
    "    {\n",
    "        \"Mailing Address ¿ Street Number and Name\": \"Mailing Address - Street Number and Name\"\n",
    "    },\n",
    "    inplace=True,\n",
    "    axis=1,\n",
    ")\n",
    "birth_dates = pd.to_datetime(cur_registered_df[\"Date of Birth\"])\n",
    "\n",
    "# upcoming election date\n",
    "elec_date = pd.to_datetime(\"11/07/2023\")\n",
    "\n",
    "# # check that this is actually correct ideally\n",
    "# subtract (1-1/365) to make it so people turning 18 on election day count as 18\n",
    "age = np.ceil(\n",
    "    (elec_date - birth_dates) / timedelta(days=365.2425) - (1 - 1 / 365)\n",
    ").astype(int)\n",
    "cur_registered_df[\"age\"] = age\n",
    "cur_registered_df = cur_registered_df.set_index(\"Voter ID Number\")"
   ]
  },
  {
   "cell_type": "code",
   "execution_count": null,
   "id": "322cad7d-4b27-4875-b36d-ab21ef4c9bda",
   "metadata": {},
   "outputs": [],
   "source": [
    "new_df[\"most_recent_local\"] = most_recent_local\n",
    "new_df[\"most_recent_state\"] = most_recent_state"
   ]
  },
  {
   "cell_type": "code",
   "execution_count": null,
   "id": "676c699f-7c11-46b1-862e-08551b3cd2bd",
   "metadata": {},
   "outputs": [],
   "source": [
    "cur_reg_hist = new_df.loc[\n",
    "    list(set(cur_registered_df.index).intersection(set(new_df.index)))\n",
    "]\n",
    "base_cols = [\n",
    "    \"Last Name\",\n",
    "    \"First Name\",\n",
    "    \"Middle Name\",\n",
    "    \"age\",\n",
    "    \"Date of Birth\",\n",
    "    \"Date of Registration\",\n",
    "    \"Residential Address Street Number\",\n",
    "    \"Residential Address Street Name\",\n",
    "    \"Residential Address Street Suffix\",\n",
    "    \"Residential Address Apartment Number\",\n",
    "    \"Residential Address Zip Code\",\n",
    "    \"Mailing Address - Street Number and Name\",\n",
    "    \"Mailing Address - Apartment Number\",\n",
    "    \"Mailing Address - City or Town\",\n",
    "    \"Mailing Address - State\",\n",
    "    \"Mailing Address - Zip Code\",\n",
    "    \"Voter Status\",\n",
    "    \"Party Affiliation\",\n",
    "    \"Ward Number\",\n",
    "    \"Precinct Number\",\n",
    "    \"Congressional District Number\",\n",
    "    \"Senatorial District Number\",\n",
    "    \"State Representative District\",\n",
    "]\n",
    "cur_reg_hist = cur_reg_hist.merge(\n",
    "    cur_registered_df[base_cols], left_on=\"Voter ID Number\", right_on=\"Voter ID Number\"\n",
    ")\n",
    "cols = [\n",
    "    \"local_elections\",\n",
    "    \"local_votes\",\n",
    "    \"state_elections\",\n",
    "    \"state_votes\",\n",
    "    \"most_recent_local\",\n",
    "    \"most_recent_state\",\n",
    "] + base_cols\n",
    "cur_reg_hist = cur_reg_hist[cols].sort_values(\n",
    "    [\"local_votes\", \"local_elections\"], ascending=False\n",
    ")\n",
    "cur_reg_hist"
   ]
  },
  {
   "cell_type": "code",
   "execution_count": null,
   "id": "b16494a9-7e01-44d5-bc93-347bd8f294e4",
   "metadata": {},
   "outputs": [],
   "source": [
    "cur_reg_hist[cur_reg_hist[\"Last Name\"].isin([\"AZEEM\", \"HUNT-ISAAK\"])]"
   ]
  },
  {
   "cell_type": "code",
   "execution_count": null,
   "id": "a90e881e-16ca-4d0c-bec0-440724f8052c",
   "metadata": {},
   "outputs": [],
   "source": [
    "cur_reg_hist.to_csv(\"individual_voter_voting_frequencies.csv\")"
   ]
  },
  {
   "cell_type": "code",
   "execution_count": null,
   "id": "f7c304b7-bfdf-4b5f-adf7-4ee0581577d5",
   "metadata": {},
   "outputs": [],
   "source": [
    "cur_registered_df[\n",
    "    pd.to_datetime(cur_registered_df[\"Date of Registration\"])\n",
    "    > pd.to_datetime(\"2022-11-08\")\n",
    "][base_cols].to_csv(\"registered_since_last_election.csv\")"
   ]
  },
  {
   "cell_type": "code",
   "execution_count": null,
   "id": "0dce31da-4c11-47da-8087-c2563f7cee85",
   "metadata": {},
   "outputs": [],
   "source": [
    "def at_address(df, street_number, street_name):\n",
    "    return df[\n",
    "        (df[\"Residential Address Street Name\"] == street_name)\n",
    "        & (df[\"Residential Address Street Number\"] == street_number)\n",
    "    ]"
   ]
  },
  {
   "cell_type": "code",
   "execution_count": null,
   "id": "b74e4fa2-3964-4da6-8f34-a2e865de8ce1",
   "metadata": {},
   "outputs": [],
   "source": [
    "grp = cur_registered_df.groupby(\n",
    "    [\n",
    "        \"Residential Address Street Name\",\n",
    "        \"Residential Address Street Number\",\n",
    "        # \"Residential Address Apartment Number\"\n",
    "    ]\n",
    ")\n",
    "# .size()).rename({0:\"Registered Voters\"},axis=1).sort_values(\"Registered Voters\", ascending =False)"
   ]
  },
  {
   "cell_type": "code",
   "execution_count": null,
   "id": "f22708bb-6ca0-4812-a936-de3d694f61c6",
   "metadata": {},
   "outputs": [],
   "source": [
    "# grp.agg(registered=\"size\")\n",
    "# df.groupby(\"A\").agg(\n",
    "out = grp.agg(\n",
    "    registered=pd.NamedAgg(column=\"Record Sequence Number\", aggfunc=\"size\"),\n",
    "    avg_age=pd.NamedAgg(column=\"age\", aggfunc=\"mean\"),\n",
    "    age_std=pd.NamedAgg(column=\"age\", aggfunc=\"std\"),\n",
    "    ward=pd.NamedAgg(column=\"Ward Number\", aggfunc=\"median\"),\n",
    ").sort_values([\"ward\", \"registered\"], ascending=[True, False])\n",
    "\n",
    "out[\"ward\"] = out[\"ward\"].astype(int)\n",
    "# for ward in sorted(out['ward'].unique()):\n",
    "#     out['ward']\n",
    "out.to_csv(\"most-registered-addresses-with-ward.csv\", float_format=\"%.2f\")"
   ]
  },
  {
   "cell_type": "code",
   "execution_count": null,
   "id": "5157c79a-14de-4df9-8f69-bfd021e07d76",
   "metadata": {},
   "outputs": [],
   "source": [
    "cur_reg_hist"
   ]
  },
  {
   "cell_type": "code",
   "execution_count": null,
   "id": "a239cb39-e149-4a0f-8eef-74fdba5f3eaf",
   "metadata": {},
   "outputs": [],
   "source": [
    "out = (\n",
    "    cur_reg_hist.groupby(\n",
    "        [\n",
    "            \"Residential Address Street Name\",\n",
    "            \"Residential Address Street Number\",\n",
    "            # \"Residential Address Apartment Number\"\n",
    "        ]\n",
    "    )\n",
    "    .agg(\n",
    "        local_elections_sum=pd.NamedAgg(column=\"local_elections\", aggfunc=\"sum\"),\n",
    "        local_votes_sum=pd.NamedAgg(column=\"local_votes\", aggfunc=\"sum\"),\n",
    "        state_elections_sum=pd.NamedAgg(column=\"state_elections\", aggfunc=\"sum\"),\n",
    "        state_votes_sum=pd.NamedAgg(column=\"state_votes\", aggfunc=\"sum\"),\n",
    "        most_recent_local_avg=pd.NamedAgg(column=\"most_recent_local\", aggfunc=\"mean\"),\n",
    "        most_recent_state_avg=pd.NamedAgg(column=\"most_recent_state\", aggfunc=\"mean\"),\n",
    "        registered=pd.NamedAgg(column=\"age\", aggfunc=\"size\"),\n",
    "        avg_age=pd.NamedAgg(column=\"age\", aggfunc=\"mean\"),\n",
    "        age_std=pd.NamedAgg(column=\"age\", aggfunc=\"std\"),\n",
    "        ward=pd.NamedAgg(column=\"Ward Number\", aggfunc=\"median\"),\n",
    "    )\n",
    "    .sort_values([\"ward\", \"registered\"], ascending=[True, False])\n",
    ")\n",
    "\n",
    "out[\"ward\"] = out[\"ward\"].astype(int)\n",
    "out[\"local_turnout_perc\"] = 100 * out[\"local_votes_sum\"] / out[\"local_elections_sum\"]\n",
    "out[\"state_turnout_perc\"] = 100 * out[\"state_votes_sum\"] / out[\"state_elections_sum\"]\n",
    "out.index = out.index.rename(\n",
    "    {\n",
    "        \"Residential Address Street Name\": \"street name\",\n",
    "        \"Residential Address Street Number\": \"street number\",\n",
    "    },\n",
    ")\n",
    "cols = (\n",
    "    list(out.columns[:4])\n",
    "    + [\"local_turnout_perc\", \"state_turnout_perc\"]\n",
    "    + list(out.columns[4:-2])\n",
    ")\n",
    "out = out[cols]\n",
    "out.reorder_levels([1, 0]).to_csv(\n",
    "    \"most-reg-addresses-with-turnout.csv\", float_format=\"%.2f\"\n",
    ")"
   ]
  },
  {
   "cell_type": "code",
   "execution_count": null,
   "id": "19b24309-362a-4525-b223-f0ad3613e9cf",
   "metadata": {},
   "outputs": [],
   "source": [
    "out"
   ]
  },
  {
   "cell_type": "code",
   "execution_count": null,
   "id": "5af0da80-70f9-471a-a827-e53bb7b11bf7",
   "metadata": {},
   "outputs": [],
   "source": [
    "out.reset_index().columns"
   ]
  },
  {
   "cell_type": "code",
   "execution_count": null,
   "id": "c7731568-5240-41d7-863f-bf978affed86",
   "metadata": {},
   "outputs": [],
   "source": [
    "out.reset_index()"
   ]
  },
  {
   "cell_type": "code",
   "execution_count": null,
   "id": "7f5d4311-463c-4177-85a5-9dc588e1c563",
   "metadata": {},
   "outputs": [],
   "source": [
    "at_address(cur_registered_df, 2, \"2ND ST\")"
   ]
  },
  {
   "cell_type": "code",
   "execution_count": null,
   "id": "e2ce3b24-0dbf-4826-99bb-622483ec8e9e",
   "metadata": {},
   "outputs": [],
   "source": [
    "at_address(cur_registered_df, 4, \"2ND ST\")"
   ]
  },
  {
   "cell_type": "code",
   "execution_count": null,
   "id": "744c66a4-102c-42e1-9f0b-3f19773cbd20",
   "metadata": {},
   "outputs": [],
   "source": [
    "s = set(cur_registered_df.index)\n",
    "# .intersection(new_df.index))].sort_values([\"local_elections\", \"local_votes\"], ascending=False)"
   ]
  },
  {
   "cell_type": "code",
   "execution_count": null,
   "id": "77107fb0-6988-44b1-aaf4-d4e009acf3db",
   "metadata": {},
   "outputs": [],
   "source": [
    "cur_registered_df.loc[list(set(cur_registered_df.index).difference(new_df.index))]"
   ]
  },
  {
   "cell_type": "code",
   "execution_count": null,
   "id": "5bde9b9c-b5c3-4b60-9610-03945054b049",
   "metadata": {},
   "outputs": [],
   "source": []
  },
  {
   "cell_type": "code",
   "execution_count": null,
   "id": "9d09434a-47a2-4ae7-a0bb-08ecefc5b066",
   "metadata": {},
   "outputs": [],
   "source": [
    "# all people currently registered but who have never had the opportunity to vote\n",
    "print(\"all people currently registered but who have never had the opportunity to vote\")\n",
    "len(list(s.difference(new_df.index)))"
   ]
  },
  {
   "cell_type": "code",
   "execution_count": null,
   "id": "d5d06277-3061-4044-9fbe-a5bffeaedb9d",
   "metadata": {},
   "outputs": [],
   "source": [
    "cur_registered_df.set_index(\"Voter ID Number\")"
   ]
  },
  {
   "cell_type": "code",
   "execution_count": null,
   "id": "bb098d80-6f29-4be6-bb89-53abd43e838a",
   "metadata": {},
   "outputs": [],
   "source": [
    "new_df = new_df.loc[\n",
    "    list(set(cur_registered_df[\"Voter ID Number\"]).intersection(new_df.index))\n",
    "].sort_values([\"local_elections\", \"local_votes\"], ascending=False)"
   ]
  },
  {
   "cell_type": "code",
   "execution_count": null,
   "id": "7241a358-c730-43d8-b08b-69975335e3c3",
   "metadata": {},
   "outputs": [],
   "source": []
  }
 ],
 "metadata": {
  "kernelspec": {
   "display_name": "Python 3 (ipykernel)",
   "language": "python",
   "name": "python3"
  },
  "language_info": {
   "codemirror_mode": {
    "name": "ipython",
    "version": 3
   },
   "file_extension": ".py",
   "mimetype": "text/x-python",
   "name": "python",
   "nbconvert_exporter": "python",
   "pygments_lexer": "ipython3",
   "version": "3.11.5"
  }
 },
 "nbformat": 4,
 "nbformat_minor": 5
}
