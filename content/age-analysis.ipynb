{
 "cells": [
  {
   "cell_type": "markdown",
   "id": "fd22c074-489b-40dc-924f-9b252436d0e7",
   "metadata": {
    "editable": true,
    "slideshow": {
     "slide_type": ""
    },
    "tags": []
   },
   "source": [
    "# Turnout by Age"
   ]
  },
  {
   "cell_type": "code",
   "execution_count": null,
   "id": "20447230-ae5a-4ac0-97c8-a0c48bde75b9",
   "metadata": {
    "editable": true,
    "slideshow": {
     "slide_type": ""
    },
    "tags": [
     "remove-input"
    ]
   },
   "outputs": [],
   "source": [
    "# %matplotlib ipympl\n",
    "from datetime import timedelta\n",
    "\n",
    "import matplotlib.pyplot as plt\n",
    "import numpy as np\n",
    "import pandas as pd\n",
    "from plotting import *\n",
    "from processing import *"
   ]
  },
  {
   "cell_type": "markdown",
   "id": "8a4c3de7-6642-4915-b9fa-931f6675b715",
   "metadata": {
    "editable": true,
    "slideshow": {
     "slide_type": ""
    },
    "tags": [
     "remove-cell"
    ]
   },
   "source": [
    "## Load and Combine Data"
   ]
  },
  {
   "cell_type": "code",
   "execution_count": null,
   "id": "e062c927-7e32-4d3b-ac92-99d36ce29827",
   "metadata": {
    "editable": true,
    "slideshow": {
     "slide_type": ""
    },
    "tags": [
     "remove-input"
    ]
   },
   "outputs": [],
   "source": [
    "MUNICIPAL_YEARS = np.arange(2011, 2023, 2)\n",
    "STATE_YEARS = np.arange(2012, 2023, 2)\n",
    "NATIONAL_YEARS = np.arange(2012, 2023, 4)\n",
    "ALL_YEARS = np.arange(2011, 2023, 1)"
   ]
  },
  {
   "cell_type": "code",
   "execution_count": null,
   "id": "a4663cf4-4d20-4a9d-ae9d-5495b9c77b53",
   "metadata": {
    "editable": true,
    "slideshow": {
     "slide_type": ""
    },
    "tags": [
     "remove-input"
    ]
   },
   "outputs": [],
   "source": [
    "voters = load_full_dataset(\"data\")\n",
    "age_grouped = turnout_by_year_key(voters, \"age\", 4)"
   ]
  },
  {
   "cell_type": "code",
   "execution_count": null,
   "id": "50f7196d-ac5f-4fc1-8000-daee108d993e",
   "metadata": {
    "editable": true,
    "slideshow": {
     "slide_type": ""
    },
    "tags": [
     "full-width",
     "remove-input"
    ]
   },
   "outputs": [],
   "source": [
    "import cmasher\n",
    "\n",
    "YEAR_COLORS = {\n",
    "    year: color for year, color in zip(ALL_YEARS, plt.get_cmap(\"tab20\").colors)\n",
    "}\n",
    "# YEAR_COLORS= {year:color for year,color in zip(ALL_YEARS, cmasher.take_cmap_colors('tab20', len(ALL_YEARS)))}\n",
    "\n",
    "\n",
    "def line_plot_age_turnout(df, years, low_alpha_years=None):\n",
    "    fig, axs = plt.subplots(1, 2, figsize=(12, 4.5), constrained_layout=True)\n",
    "\n",
    "    if low_alpha_years is None:\n",
    "        low_alpha_years = []\n",
    "    for year in years:\n",
    "        if year in low_alpha_years:\n",
    "            alpha = 0.5\n",
    "            # alpha =1\n",
    "            linestyle = \"--\"\n",
    "        else:\n",
    "            alpha = 1\n",
    "            linestyle = \"-\"\n",
    "\n",
    "        axs[0].plot(\n",
    "            df.loc[year][\"mid_points\"].values,\n",
    "            df.loc[year][\"turnout\"].values * 100,\n",
    "            \"o\",\n",
    "            color=YEAR_COLORS[year][:3],\n",
    "            linestyle=linestyle,\n",
    "            label=year,\n",
    "            alpha=alpha,\n",
    "        )\n",
    "        axs[1].plot(\n",
    "            df.loc[year][\"mid_points\"].values,\n",
    "            df.loc[year][\"voted\"].values,\n",
    "            \"o\",\n",
    "            color=YEAR_COLORS[year][:3],\n",
    "            linestyle=linestyle,\n",
    "            label=year,\n",
    "            alpha=alpha,\n",
    "        )\n",
    "    axs[0].set_title(\"Turnout %\")\n",
    "    axs[1].set_title(\"Turnout Numbers\")\n",
    "    axs[0].set_ylabel(\"%\")\n",
    "    axs[1].set_ylabel(\"Number of Votes Cast\")\n",
    "    labelsize = 15\n",
    "    axs[0].grid()\n",
    "    axs[1].grid()\n",
    "    fig.supxlabel(\"Age (4 yr bins)\", size=labelsize)\n",
    "    plt.legend()\n",
    "    return fig, axs\n",
    "\n",
    "\n",
    "fig, axs = line_plot_age_turnout(age_grouped, ALL_YEARS)\n",
    "fig.suptitle(\"All Elections\");\n",
    "# plt.savefig(\"all-elec-line.png\")"
   ]
  },
  {
   "cell_type": "code",
   "execution_count": null,
   "id": "c1c2ce4e-1aca-46ea-abae-85e85e868381",
   "metadata": {
    "editable": true,
    "slideshow": {
     "slide_type": ""
    },
    "tags": [
     "full-width",
     "remove-input"
    ]
   },
   "outputs": [],
   "source": [
    "fig, axs = line_plot_age_turnout(age_grouped, MUNICIPAL_YEARS)\n",
    "fig.suptitle(\"Municipal Elections\");\n",
    "# fig, axs =line_plot_age_turnout(age_grouped, STATE_YEARS)\n",
    "# fig, axs =line_plot_age_turnout(age_grouped, NATIONAL_YEARS)"
   ]
  },
  {
   "cell_type": "code",
   "execution_count": null,
   "id": "02b2425a-a938-414d-8c1a-cecede6b18a3",
   "metadata": {
    "editable": true,
    "slideshow": {
     "slide_type": ""
    },
    "tags": [
     "remove-input",
     "full-width"
    ]
   },
   "outputs": [],
   "source": [
    "fig, axs = multi_year_bar(\n",
    "    age_grouped, turnout_bar_graph, years_per_row=3, figsize=(16, 8)\n",
    ")\n",
    "fig.supxlabel(\"Age (4 year bins)\")\n",
    "fig.supylabel(\"Number of voters\")\n",
    "axs[-1][-1].legend()\n",
    "axs[-1, -1].set_xlim([17.5, 85])\n",
    "plt.tight_layout();\n",
    "# plt.tight_layout()"
   ]
  },
  {
   "cell_type": "code",
   "execution_count": null,
   "id": "8070effa-cafc-4667-af6c-45257eb7b557",
   "metadata": {
    "editable": true,
    "slideshow": {
     "slide_type": ""
    },
    "tags": [
     "full-width",
     "remove-input"
    ]
   },
   "outputs": [],
   "source": [
    "def line_plot_turnout_age(df, years):\n",
    "    ages = np.arange(18, 85, 4)\n",
    "    groups = [f\"{i}-{i+4}\" for i in ages]\n",
    "    colors = plt.cm.plasma_r(ages / ages.max())\n",
    "\n",
    "    fig, axs = plt.subplots(1, 2, figsize=(12, 5), constrained_layout=True)\n",
    "    for i, group in enumerate(groups):\n",
    "        df.loc[years][\"turnout\"].xs(group, level=1).plot(\n",
    "            label=group, style=\"o-\", color=colors[i], ax=axs[0]\n",
    "        )\n",
    "        df.loc[years][\"voted\"].xs(group, level=1).plot(\n",
    "            label=group, style=\"o-\", color=colors[i], ax=axs[1]\n",
    "        )\n",
    "\n",
    "    axs[1].legend(bbox_to_anchor=(1.05, 1), loc=\"upper left\", borderaxespad=0.0)\n",
    "    axs[0].set_title(\"Percentage Turnout\")\n",
    "    axs[1].set_title(\"Absolute Turnout\")\n",
    "    fig.supxlabel(\"Year\")\n",
    "    axs[0].grid()\n",
    "    axs[1].grid()\n",
    "    axs[0].set_ylim([0, 1])\n",
    "    axs[1].set_ylim([0, 7500])\n",
    "    return fig, axs\n",
    "\n",
    "\n",
    "fig, axs = line_plot_turnout_age(age_grouped, MUNICIPAL_YEARS)\n",
    "fig.suptitle(\"Turnout by Age and Year (Municipal Only)\");"
   ]
  },
  {
   "cell_type": "code",
   "execution_count": null,
   "id": "e11d828a-2710-435b-84a3-ae37d024e9e0",
   "metadata": {
    "editable": true,
    "slideshow": {
     "slide_type": ""
    },
    "tags": [
     "full-width",
     "remove-input"
    ]
   },
   "outputs": [],
   "source": [
    "fig, axs = line_plot_turnout_age(age_grouped, STATE_YEARS)\n",
    "fig.suptitle(\"Turnout by Age and Year (State Elections)\");"
   ]
  },
  {
   "cell_type": "code",
   "execution_count": null,
   "id": "b59f6872-bd45-46ba-b929-7cf0ac9ca618",
   "metadata": {
    "editable": true,
    "slideshow": {
     "slide_type": ""
    },
    "tags": [
     "full-width",
     "remove-input"
    ]
   },
   "outputs": [],
   "source": [
    "fig, axs = line_plot_turnout_age(age_grouped, NATIONAL_YEARS)\n",
    "fig.suptitle(\"Turnout by Age and Year (National Only)\");"
   ]
  },
  {
   "cell_type": "code",
   "execution_count": null,
   "id": "6f6448a5-f5ab-40aa-b855-7a7e85e5fada",
   "metadata": {
    "editable": true,
    "slideshow": {
     "slide_type": ""
    },
    "tags": [
     "full-width",
     "remove-input"
    ]
   },
   "outputs": [],
   "source": [
    "fig, axs = line_plot_turnout_age(age_grouped, ALL_YEARS)\n",
    "fig.suptitle(\"Turnout by Age and Year (All Years)\");"
   ]
  },
  {
   "cell_type": "code",
   "execution_count": null,
   "id": "0e28a9e0-3f51-4405-b7a5-4dbda2e9d178",
   "metadata": {
    "editable": true,
    "slideshow": {
     "slide_type": ""
    },
    "tags": []
   },
   "outputs": [],
   "source": []
  }
 ],
 "metadata": {
  "kernelspec": {
   "display_name": "Python 3 (ipykernel)",
   "language": "python",
   "name": "python3"
  },
  "language_info": {
   "codemirror_mode": {
    "name": "ipython",
    "version": 3
   },
   "file_extension": ".py",
   "mimetype": "text/x-python",
   "name": "python",
   "nbconvert_exporter": "python",
   "pygments_lexer": "ipython3",
   "version": "3.11.5"
  }
 },
 "nbformat": 4,
 "nbformat_minor": 5
}
