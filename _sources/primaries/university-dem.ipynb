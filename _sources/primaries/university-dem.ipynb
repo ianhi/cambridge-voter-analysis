{
 "cells": [
  {
   "cell_type": "markdown",
   "id": "98244ba0-4e94-43e3-bdde-7532a7c2b90b",
   "metadata": {},
   "source": [
    "# University Housing"
   ]
  },
  {
   "cell_type": "code",
   "execution_count": null,
   "id": "8b936fa4-b957-4e9a-ae6b-4363625eac90",
   "metadata": {
    "editable": true,
    "slideshow": {
     "slide_type": ""
    },
    "tags": []
   },
   "outputs": [],
   "source": [
    "# %matplotlib ipympl\n",
    "from datetime import timedelta\n",
    "\n",
    "import matplotlib.pyplot as plt\n",
    "import numpy as np\n",
    "import pandas as pd\n",
    "from ma_voter_analysis.plotting import *\n",
    "from ma_voter_analysis.processing import *\n",
    "from ma_voter_analysis.university import *"
   ]
  },
  {
   "cell_type": "code",
   "execution_count": null,
   "id": "1c55c80d-9006-42ab-900c-e44b1f6c73f2",
   "metadata": {
    "editable": true,
    "slideshow": {
     "slide_type": ""
    },
    "tags": []
   },
   "outputs": [],
   "source": [
    "\n",
    "figsize = (16, 8)\n",
    "\n",
    "YEARS = [2012, 2014, 2016, 2018, 2020, 2022]\n",
    "challenger_years = [2012, 2014, 2016, 2018]\n",
    "\n",
    "cur_registered_df = load_voter_list(\n",
    "    \"../../data/cambridge/49VOT_285911.txt\", date_for_age=\"2024-09-06\"\n",
    ")"
   ]
  },
  {
   "cell_type": "code",
   "execution_count": null,
   "id": "3c713aea-b26a-4343-ab7c-18215909fbf8",
   "metadata": {
    "editable": true,
    "slideshow": {
     "slide_type": ""
    },
    "tags": []
   },
   "outputs": [],
   "source": [
    "\n",
    "primary = (\n",
    "    pd.read_csv(\"../../data/cambridge/primaries/sept-primaries-compiled.csv\",low_memory=False)\n",
    "    .rename({\"Unnamed: 0\": \"year\"}, axis=1)\n",
    "    .set_index([\"year\", \"Voter ID Number\"])\n",
    ")\n",
    "# primary[\"Party Affiliation\"] = primary[\"Party Affiliation\"].str.strip()\n",
    "general = load_full_dataset(\"../data/cambridge\")\n",
    "# general = general[general[\"State Representative District\"] == 142]"
   ]
  },
  {
   "cell_type": "code",
   "execution_count": null,
   "id": "e038de24-19c0-4036-badc-a37251a2e03f",
   "metadata": {
    "editable": true,
    "slideshow": {
     "slide_type": ""
    },
    "tags": [
     "remove-input"
    ]
   },
   "outputs": [],
   "source": [
    "\n",
    "\n",
    "# primary = primary[primary[\"Party Affiliation\"].isin([\"D\", \"U\"])]\n",
    "# general = general[general[\"Party Affiliation\"].isin([\"D\", \"U\"])]\n",
    "\n",
    "primary['univ_housing_name'] = ''\n",
    "gsas_idx = find_housing_idxs(primary, gsas_dorms)\n",
    "harvard_ugrad_idx = find_housing_idxs(primary, harvard_ugrad_houses)\n",
    "hvd_law_idx = find_housing_idxs(primary, hvd_law_dorms)\n",
    "harvard_housing_idx = find_housing_idxs(primary, harvard_housing)\n",
    "harvard_1st_idx = find_housing_idxs(primary, harvard_1st_year)\n",
    "mit_ugrad_idx = find_housing_idxs(primary, mit_dorms)\n",
    "mit_grad_idx = find_housing_idxs(primary, mit_grad_housing)\n",
    "lesley_housing_idx = find_housing_idxs(primary, lesley_housing)"
   ]
  },
  {
   "cell_type": "markdown",
   "id": "a923cff2-4927-4319-8c19-0583f5d41508",
   "metadata": {
    "editable": true,
    "slideshow": {
     "slide_type": ""
    },
    "tags": []
   },
   "source": [
    "## Harvard College\n",
    "### Harvard First Year Houses"
   ]
  },
  {
   "cell_type": "code",
   "execution_count": null,
   "id": "f1cca042-8a21-47aa-8b45-b8b06e19e4e4",
   "metadata": {
    "editable": true,
    "slideshow": {
     "slide_type": ""
    },
    "tags": [
     "remove-input",
     "full-width"
    ]
   },
   "outputs": [],
   "source": [
    "fig, axs = multi_year_bar(\n",
    "    primary, university_housing_bar_chart, idx=harvard_1st_idx[\"all\"], figsize=figsize\n",
    ")\n",
    "fig.suptitle(\"Harvard 1st Year Housing\")\n",
    "ax = axs[-1, -1]\n",
    "ax.set_xticks(\n",
    "    ax.get_xticks(), labels=[l.get_text().split()[0] for l in ax.get_xticklabels()]\n",
    ")\n",
    "plt.legend()\n",
    "plt.tight_layout()"
   ]
  },
  {
   "cell_type": "markdown",
   "id": "e7e25e2f-e0a7-41b6-bcda-87d4618fa54e",
   "metadata": {
    "editable": true,
    "slideshow": {
     "slide_type": ""
    },
    "tags": []
   },
   "source": [
    "### Harvard Undergraduate Houses\n"
   ]
  },
  {
   "cell_type": "code",
   "execution_count": null,
   "id": "c7a462dc-a525-4e1e-b7ed-13a05ebc1763",
   "metadata": {
    "editable": true,
    "slideshow": {
     "slide_type": ""
    },
    "tags": [
     "remove-input",
     "full-width"
    ]
   },
   "outputs": [],
   "source": [
    "fig, axs = multi_year_bar(\n",
    "    primary, university_housing_bar_chart, idx=harvard_ugrad_idx[\"all\"], figsize=figsize\n",
    ")\n",
    "fig.suptitle(\"Harvard Undergrad Houses turnout\")\n",
    "ax = axs[-1, -1]\n",
    "ax.set_xticks(\n",
    "    ax.get_xticks(), labels=[l.get_text().split()[0] for l in ax.get_xticklabels()]\n",
    ")\n",
    "plt.legend()\n",
    "plt.tight_layout()"
   ]
  },
  {
   "cell_type": "markdown",
   "id": "29337fb7-a406-4b0e-84d6-942bdb3e10b3",
   "metadata": {
    "editable": true,
    "slideshow": {
     "slide_type": ""
    },
    "tags": []
   },
   "source": [
    "### Harvard Grad Dorms"
   ]
  },
  {
   "cell_type": "code",
   "execution_count": null,
   "id": "22a43e04-ace0-4c32-bf4e-d75c830a5a4d",
   "metadata": {
    "editable": true,
    "slideshow": {
     "slide_type": ""
    },
    "tags": [
     "remove-input",
     "full-width"
    ]
   },
   "outputs": [],
   "source": [
    "fig, axs = multi_year_bar(\n",
    "    primary, university_housing_bar_chart, idx=gsas_idx[\"all\"], figsize=figsize\n",
    ")\n",
    "fig.suptitle(\"Harvard GSAS Dorms Turnout\")\n",
    "ax = axs[-1, -1]\n",
    "ax.set_xticks(\n",
    "    ax.get_xticks(), labels=[l.get_text().split()[0] for l in ax.get_xticklabels()]\n",
    ")\n",
    "plt.legend()\n",
    "plt.tight_layout()"
   ]
  },
  {
   "cell_type": "markdown",
   "id": "43167438-f92b-472f-8719-39e7ef1b29ee",
   "metadata": {
    "editable": true,
    "slideshow": {
     "slide_type": ""
    },
    "tags": []
   },
   "source": [
    "### Harvard University Housing\n",
    "\n",
    "\n",
    "[Harvard University Housing](https://www.huhousing.harvard.edu/) is separate from the grad dorms and undergrad house system. They rent out apartments to graduate students. A map of their properties can be found [here](https://osa.gse.harvard.edu/files/gse-osa/files/hu_housing_map.pdf)\n",
    "\n",
    "\n",
    "Every Harvard Housing property in Cambridge is the 25th Middlesex State House District.\n",
    "\n"
   ]
  },
  {
   "cell_type": "code",
   "execution_count": null,
   "id": "4e1fa24f-5745-44fd-9b43-6370a726f062",
   "metadata": {
    "editable": true,
    "slideshow": {
     "slide_type": ""
    },
    "tags": [
     "remove-input",
     "full-width"
    ]
   },
   "outputs": [],
   "source": [
    "fig, axs = multi_year_bar(\n",
    "    primary,\n",
    "    university_housing_bar_chart,\n",
    "    idx=harvard_housing_idx[\"all\"],\n",
    "    figsize=figsize,\n",
    ")\n",
    "fig.suptitle(\"Harvard Grad Housing Turnout\")\n",
    "plt.legend()\n",
    "plt.tight_layout()"
   ]
  },
  {
   "cell_type": "markdown",
   "id": "069f3328-f070-4604-9f09-09ffa26b498c",
   "metadata": {
    "editable": true,
    "slideshow": {
     "slide_type": ""
    },
    "tags": []
   },
   "source": [
    "### Harvard Law School Dorms\n"
   ]
  },
  {
   "cell_type": "code",
   "execution_count": null,
   "id": "937e229d-c7a1-49e7-8049-8f1d36e3ad93",
   "metadata": {
    "editable": true,
    "slideshow": {
     "slide_type": ""
    },
    "tags": [
     "remove-input",
     "full-width"
    ]
   },
   "outputs": [],
   "source": [
    "fig, axs = multi_year_bar(\n",
    "    primary, university_housing_bar_chart, idx=hvd_law_idx[\"all\"], figsize=figsize\n",
    ")\n",
    "fig.suptitle(\"Harvard Law Dorms Turnout\")\n",
    "ax = axs[-1, -1]\n",
    "ax.set_xticks(\n",
    "    ax.get_xticks(), labels=[l.get_text().split()[0] for l in ax.get_xticklabels()]\n",
    ")\n",
    "plt.legend()\n",
    "plt.tight_layout()"
   ]
  },
  {
   "cell_type": "markdown",
   "id": "beb45ebb-8dfb-486d-a2aa-b0ff531c21b3",
   "metadata": {
    "editable": true,
    "slideshow": {
     "slide_type": ""
    },
    "tags": []
   },
   "source": [
    "### All Harvard Dorms/Housing"
   ]
  },
  {
   "cell_type": "code",
   "execution_count": null,
   "id": "7aa58a32-68de-4fce-9110-85c1e209a164",
   "metadata": {
    "editable": true,
    "slideshow": {
     "slide_type": ""
    },
    "tags": [
     "remove-input",
     "full-width"
    ]
   },
   "outputs": [],
   "source": [
    "# %matplotlib ipympl\n",
    "\n",
    "df = turnout_by_year_key(primary, \"univ_housing_name\")\n",
    "\n",
    "# groupby is the easiest way i could see to get the order I wanted\n",
    "# couldn't get the reorder levels to work properly :/\n",
    "df = df.groupby([\"univ_housing_name\", \"year\"]).mean()\n",
    "housing_sets = [\n",
    "    harvard_1st_year,\n",
    "    harvard_ugrad_houses,\n",
    "    gsas_dorms,\n",
    "    harvard_housing,\n",
    "    hvd_law_dorms,\n",
    "]\n",
    "fig, axs = plt.subplots(len(housing_sets), 3, figsize=(16, 20))\n",
    "for row, buildings in enumerate(housing_sets):\n",
    "    for building in buildings:\n",
    "        axs[row][0].plot(\n",
    "            df.loc[building][\"registered\"], \"o--\", label=building.split()[0]\n",
    "        )\n",
    "        axs[row][1].plot(df.loc[building][\"voted\"], \"o--\", label=building.split()[0])\n",
    "        axs[row][2].plot(df.loc[building][\"turnout\"] * 100, \"o--\", label=building)\n",
    "    axs[row][0].set_title(\"Registered\")\n",
    "    axs[row][1].set_title(\"Voted\")\n",
    "    axs[row][2].set_title(\"Turnout %\")\n",
    "    axs[row, 2].legend(bbox_to_anchor=(1.05, 1), loc=\"upper left\", borderaxespad=0.0)\n",
    "    axs[row, 2].set_ylim([0, 100])\n",
    "plt.tight_layout()"
   ]
  },
  {
   "cell_type": "markdown",
   "id": "16247168-b759-457f-acd5-242561b65b3a",
   "metadata": {
    "editable": true,
    "slideshow": {
     "slide_type": ""
    },
    "tags": []
   },
   "source": [
    "## Harvard Undergraduate Total turnout\n",
    "\n",
    "Because the harvard undegraduate population nearly entirely lives in the house system we can assess the turnout of Harvard Undergraduates as a whole based on the enrollment numbers available from the [Harvard Factbook](https://oira.harvard.edu/factbook/fact-book-enrollment/).\n",
    "\n",
    "Unfortunately the breakdown of international or US citizen is currently only available for 2022/2023. But based on some very cursory googling it seem that each year has 10-15% international enrollment. So for the following analysis we will assume 12.5% international undergraduates at Harvard.\n",
    "\n",
    "The big takeaway here is that Harvard Undergraduates have barely voted in any state level primaries over the past decade.\n"
   ]
  },
  {
   "cell_type": "code",
   "execution_count": null,
   "id": "09a9391b-07bf-465a-b25c-48ca8e51c3db",
   "metadata": {
    "editable": true,
    "slideshow": {
     "slide_type": ""
    },
    "tags": [
     "remove-input"
    ]
   },
   "outputs": [],
   "source": [
    "hvd_college_enrollment = pd.Series(\n",
    "    {\n",
    "        2013: 6671,\n",
    "        2014: 6636,\n",
    "        2015: 6634,\n",
    "        2016: 6645,\n",
    "        2017: 6699,\n",
    "        2018: 6722,\n",
    "        2019: 6716,\n",
    "        2020: 5212,\n",
    "        2021: 7095,\n",
    "        2022: 7178,\n",
    "    }\n",
    ")\n",
    "\n",
    "# pd.Series(hvd_college_enrollment)"
   ]
  },
  {
   "cell_type": "code",
   "execution_count": null,
   "id": "2f850951-b9e5-432a-9b0c-5caf8ac0288c",
   "metadata": {
    "editable": true,
    "slideshow": {
     "slide_type": ""
    },
    "tags": [
     "remove-input"
    ]
   },
   "outputs": [],
   "source": [
    "all_hvd_ugrad = pd.DataFrame(primary[harvard_1st_idx[\"all\"] | harvard_ugrad_idx[\"all\"]])\n",
    "# all_hvd_ugrad = pd.DataFrame(voters[mit_ugrad_idx['all']])\n",
    "all_hvd_ugrad\n",
    "all_hvd_ugrad[\"registered\"] = 1\n",
    "hvd_yearly_turnout = (\n",
    "    all_hvd_ugrad.reset_index().groupby(\"year\").sum()[[\"voted\", \"registered\"]]\n",
    ")\n",
    "hvd_yearly_turnout[\"turnout %\"] = (\n",
    "    100 * hvd_yearly_turnout[\"voted\"] / hvd_yearly_turnout[\"registered\"]\n",
    ")\n",
    "hvd_yearly_turnout[\"enrollment\"] = hvd_college_enrollment\n",
    "hvd_yearly_turnout[\"us-citizens\"] = hvd_yearly_turnout[\"enrollment\"] * (1 - 0.125)\n",
    "hvd_yearly_turnout[\"registered-percent\"] = 100 *(\n",
    "    hvd_yearly_turnout[\"registered\"] / hvd_yearly_turnout[\"us-citizens\"]\n",
    ")\n",
    "hvd_yearly_turnout"
   ]
  },
  {
   "cell_type": "code",
   "execution_count": null,
   "id": "96434b6a-19ac-4f81-ae97-83b3d945a13e",
   "metadata": {
    "editable": true,
    "slideshow": {
     "slide_type": ""
    },
    "tags": [
     "remove-input",
     "full-width"
    ]
   },
   "outputs": [],
   "source": [
    "plt.figure()\n",
    "plt.title(\"Harvard Undergrads Registration and Voting Percentages\")\n",
    "(hvd_yearly_turnout[\"registered-percent\"]).plot(\n",
    "    marker=\"o\", label=\"% of ugrads Registered\"\n",
    ")\n",
    "(hvd_yearly_turnout[\"turnout %\"]).plot(\n",
    "    marker=\"o\", label=\"% Registered Ugrads who Voted\"\n",
    ")\n",
    "plt.ylabel(\"%\")\n",
    "plt.legend()\n",
    "plt.tight_layout()"
   ]
  },
  {
   "cell_type": "code",
   "execution_count": null,
   "id": "579dadae-7f71-458d-8d2b-09f55ad2f463",
   "metadata": {
    "editable": true,
    "slideshow": {
     "slide_type": ""
    },
    "tags": [
     "remove-input",
     "full-width"
    ]
   },
   "outputs": [],
   "source": [
    "plt.figure()\n",
    "plt.title(\"Harvard Undergrads Absolute Registration and Voters\")\n",
    "hvd_yearly_turnout[\"registered\"].plot(marker=\"o\", label=\"# Registered\")\n",
    "hvd_yearly_turnout[\"voted\"].plot(marker=\"o\", label=\"# Voted\")\n",
    "plt.ylabel(\"Number of People\")\n",
    "plt.legend()\n",
    "plt.tight_layout()"
   ]
  },
  {
   "cell_type": "markdown",
   "id": "8001c6c6-8ac4-4d2e-98ee-eb606e1d0b22",
   "metadata": {
    "editable": true,
    "slideshow": {
     "slide_type": ""
    },
    "tags": []
   },
   "source": [
    "## MIT\n",
    "### MIT Undergraduate Dorms\n"
   ]
  },
  {
   "cell_type": "code",
   "execution_count": null,
   "id": "f5ad8d88-b495-4ea9-a2b6-5fbea07fdc47",
   "metadata": {},
   "outputs": [],
   "source": [
    "\n",
    "primary[mit_ugrad_idx['all']]['State Representative District'].unique()"
   ]
  },
  {
   "cell_type": "code",
   "execution_count": null,
   "id": "a7092612-4dc3-4781-88c9-51d43a8ed4d2",
   "metadata": {
    "editable": true,
    "slideshow": {
     "slide_type": ""
    },
    "tags": [
     "remove-input",
     "full-width"
    ]
   },
   "outputs": [],
   "source": [
    "fig, axs = multi_year_bar(\n",
    "    primary, university_housing_bar_chart, idx=mit_ugrad_idx[\"all\"], figsize=figsize\n",
    ")\n",
    "fig.suptitle(\"MIT Undergraduate Dorms\")\n",
    "plt.legend()\n",
    "plt.tight_layout()"
   ]
  },
  {
   "cell_type": "markdown",
   "id": "10dcf415-600a-4086-8d50-71ee4a394955",
   "metadata": {
    "editable": true,
    "slideshow": {
     "slide_type": ""
    },
    "tags": []
   },
   "source": [
    "### MIT Graduate Housing"
   ]
  },
  {
   "cell_type": "code",
   "execution_count": null,
   "id": "ebb041c9-2fa7-4876-8afd-363663a00646",
   "metadata": {
    "editable": true,
    "slideshow": {
     "slide_type": ""
    },
    "tags": [
     "full-width",
     "remove-input"
    ]
   },
   "outputs": [],
   "source": [
    "fig, axs = multi_year_bar(\n",
    "    primary, university_housing_bar_chart, idx=mit_grad_idx[\"all\"], figsize=figsize\n",
    ")\n",
    "fig.suptitle(\"MIT Graduate Housing\")\n",
    "plt.legend()\n",
    "plt.tight_layout();"
   ]
  },
  {
   "cell_type": "markdown",
   "id": "662db62c-d5e1-4626-a4d6-7a43ab974030",
   "metadata": {
    "editable": true,
    "slideshow": {
     "slide_type": ""
    },
    "tags": []
   },
   "source": [
    "### All MIT Dorms/Housing"
   ]
  },
  {
   "cell_type": "code",
   "execution_count": null,
   "id": "f3719614-38bb-4f6e-bc13-ce78a35f588a",
   "metadata": {
    "editable": true,
    "slideshow": {
     "slide_type": ""
    },
    "tags": [
     "remove-input",
     "full-width"
    ]
   },
   "outputs": [],
   "source": [
    "df = turnout_by_year_key(primary, \"univ_housing_name\")\n",
    "\n",
    "# groupby is the easiest way i could see to get the order I wanted\n",
    "# couldn't get the reorder levels to work properly :/\n",
    "df = df.groupby([\"univ_housing_name\", \"year\"]).mean()\n",
    "housing_sets = [mit_dorms, mit_grad_housing]\n",
    "fig, axs = plt.subplots(len(housing_sets), 3, figsize=(16, 6))\n",
    "for row, buildings in enumerate(housing_sets):\n",
    "    for building in buildings:\n",
    "        axs[row][0].plot(\n",
    "            df.loc[building][\"registered\"], \"o--\", label=building.split()[0]\n",
    "        )\n",
    "        axs[row][1].plot(df.loc[building][\"voted\"], \"o--\", label=building.split()[0])\n",
    "        axs[row][2].plot(df.loc[building][\"turnout\"] * 100, \"o--\", label=building)\n",
    "    axs[row][0].set_title(\"Registered\")\n",
    "    axs[row][1].set_title(\"Voted\")\n",
    "    axs[row][2].set_title(\"Turnout %\")\n",
    "    axs[row, 2].legend(bbox_to_anchor=(1.05, 1), loc=\"upper left\", borderaxespad=0.0)\n",
    "    axs[row, 2].set_ylim([0, 100])\n",
    "plt.tight_layout()"
   ]
  },
  {
   "cell_type": "markdown",
   "id": "ca6529cd-bc37-4e61-bba7-0fe7221f8805",
   "metadata": {
    "editable": true,
    "slideshow": {
     "slide_type": ""
    },
    "tags": []
   },
   "source": [
    "### MIT Undergraduate Total turnout\n",
    "\n",
    "```{admonition} TODO\n",
    "This should be possible to calculate using the information from https://registrar.mit.edu/statistics-reports/enrollment-statistics-year# But has yet to be implemented here.\n",
    "```\n"
   ]
  },
  {
   "cell_type": "markdown",
   "id": "a986f9f2-d7bd-4adb-9134-1809f1d1cbb8",
   "metadata": {
    "editable": true,
    "slideshow": {
     "slide_type": ""
    },
    "tags": []
   },
   "source": [
    "## Lesley\n",
    "\n",
    "We cannot calculate total turnout of Lesley students as not all students live on campus (78% of first years per https://lesley.edu/life-at-lesley/campus-life/housing). So we cannot calculate the correct percentage of international students who live in the dorms.\n",
    "\n",
    "### Lesley Undergraduates"
   ]
  },
  {
   "cell_type": "code",
   "execution_count": null,
   "id": "9884cb9b-ad61-4ea0-a7b3-b7794320eded",
   "metadata": {
    "editable": true,
    "slideshow": {
     "slide_type": ""
    },
    "tags": [
     "remove-input",
     "full-width"
    ]
   },
   "outputs": [],
   "source": [
    "fig, axs = multi_year_bar(\n",
    "    primary, university_housing_bar_chart, idx=lesley_housing_idx[\"all\"], figsize=figsize\n",
    ")\n",
    "fig.suptitle(\"MIT Undergraduate Dorms\")\n",
    "ax = axs[-1, -1]\n",
    "ax.set_xticks(\n",
    "    ax.get_xticks(), labels=[l.get_text().split()[0] for l in ax.get_xticklabels()]\n",
    ")\n",
    "plt.legend()\n",
    "plt.tight_layout()"
   ]
  },
  {
   "cell_type": "code",
   "execution_count": null,
   "id": "4fb4aa26-52c7-4490-8111-d31f9358e99d",
   "metadata": {
    "editable": true,
    "slideshow": {
     "slide_type": ""
    },
    "tags": [
     "remove-input",
     "full-width"
    ]
   },
   "outputs": [],
   "source": [
    "df = turnout_by_year_key(primary, \"univ_housing_name\")\n",
    "\n",
    "# groupby is the easiest way i could see to get the order I wanted\n",
    "# couldn't get the reorder levels to work properly :/\n",
    "df = df.groupby([\"univ_housing_name\", \"year\"]).mean()\n",
    "housing_sets = [lesley_housing]\n",
    "fig, axs = plt.subplots(len(housing_sets), 3, figsize=(16, 6))\n",
    "for building in lesley_housing:\n",
    "    if building == 'Wolfard Hall':\n",
    "        continue\n",
    "    axs[0].plot(df.loc[building][\"registered\"], \"o--\", label=building.split()[0])\n",
    "    axs[1].plot(df.loc[building][\"voted\"], \"o--\", label=building.split()[0])\n",
    "    axs[2].plot(df.loc[building][\"turnout\"] * 100, \"o--\", label=building)\n",
    "axs[0].set_title(\"Registered\")\n",
    "axs[1].set_title(\"Voted\")\n",
    "axs[2].set_title(\"Turnout %\")\n",
    "axs[2].legend(bbox_to_anchor=(1.05, 1), loc=\"upper left\", borderaxespad=0.0)\n",
    "axs[2].set_ylim([0, 100])\n",
    "plt.tight_layout()"
   ]
  },
  {
   "cell_type": "code",
   "execution_count": null,
   "id": "670801d4-51fa-471f-ae3e-d6a056cc3e93",
   "metadata": {
    "editable": true,
    "slideshow": {
     "slide_type": ""
    },
    "tags": []
   },
   "outputs": [],
   "source": []
  }
 ],
 "metadata": {
  "kernelspec": {
   "display_name": "Python 3 (ipykernel)",
   "language": "python",
   "name": "python3"
  },
  "language_info": {
   "codemirror_mode": {
    "name": "ipython",
    "version": 3
   },
   "file_extension": ".py",
   "mimetype": "text/x-python",
   "name": "python",
   "nbconvert_exporter": "python",
   "pygments_lexer": "ipython3",
   "version": "3.11.5"
  },
  "widgets": {
   "application/vnd.jupyter.widget-state+json": {
    "state": {},
    "version_major": 2,
    "version_minor": 0
   }
  }
 },
 "nbformat": 4,
 "nbformat_minor": 5
}
