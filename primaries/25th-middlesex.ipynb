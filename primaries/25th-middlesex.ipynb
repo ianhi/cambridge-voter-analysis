{
 "cells": [
  {
   "cell_type": "markdown",
   "id": "2df599c8-2c7c-461f-9d68-05ce655c9077",
   "metadata": {
    "editable": true,
    "slideshow": {
     "slide_type": ""
    },
    "tags": []
   },
   "source": [
    "# Primary Turnout by Age\n",
    "\n",
    "## Democratic + Unaffiliated\n",
    "\n",
    "\n"
   ]
  },
  {
   "cell_type": "code",
   "execution_count": null,
   "id": "a3714428-fd2a-4b96-9a93-05dcd72bf1f0",
   "metadata": {
    "editable": true,
    "slideshow": {
     "slide_type": ""
    },
    "tags": [
     "remove-input",
     "remove-cell"
    ]
   },
   "outputs": [],
   "source": [
    "# %matplotlib ipympl\n",
    "from datetime import timedelta\n",
    "\n",
    "import matplotlib.pyplot as plt\n",
    "import numpy as np\n",
    "import pandas as pd\n",
    "from ma_voter_analysis.plotting import *\n",
    "from ma_voter_analysis.processing import *"
   ]
  },
  {
   "cell_type": "code",
   "execution_count": null,
   "id": "c981e11c-9ca5-45a2-8a69-6068d03eb1bd",
   "metadata": {
    "editable": true,
    "slideshow": {
     "slide_type": ""
    },
    "tags": []
   },
   "outputs": [],
   "source": [
    "YEARS = [2012, 2014, 2016, 2018, 2020, 2022]\n",
    "challenger_years = [2012, 2014, 2016, 2018]\n",
    "\n",
    "cur_registered_df = load_voter_list(\n",
    "    \"../../data/cambridge/general/raw/49VOT_285911.txt\", date_for_age=\"2024-09-06\"\n",
    ")\n",
    "cur_registered_df[\"Date of Registration\"] = pd.to_datetime(\n",
    "    cur_registered_df[\"Date of Registration\"]\n",
    ")"
   ]
  },
  {
   "cell_type": "code",
   "execution_count": null,
   "id": "3a8ec8c8-d0da-4eb6-a284-0586b81b7519",
   "metadata": {
    "editable": true,
    "slideshow": {
     "slide_type": ""
    },
    "tags": [
     "remove-cell"
    ]
   },
   "outputs": [],
   "source": [
    "primary = (\n",
    "    pd.read_csv(\"../../data/cambridge/sept-primaries-compiled.csv\", low_memory=False)\n",
    "    .rename({\"Unnamed: 0\": \"year\"}, axis=1)\n",
    "    .set_index([\"year\", \"Voter ID Number\"])\n",
    ")\n",
    "general = pd.read_csv(\"../../data/cambridge/general-vote-history.csv\").set_index(\n",
    "    [\"year\", \"Voter ID Number\"]\n",
    ")\n",
    "general = general[general[\"State Representative District\"] == 142]\n",
    "primary = primary[primary[\"State Representative District\"] == 142]\n",
    "primary = primary[primary[\"Party Affiliation\"].isin([\"D\", \"U\"])]\n",
    "general = general[general[\"Party Affiliation\"].isin([\"D\", \"U\"])]"
   ]
  },
  {
   "cell_type": "markdown",
   "id": "d2a90219-6732-44df-94a7-9f39d7f56fac",
   "metadata": {
    "editable": true,
    "slideshow": {
     "slide_type": ""
    },
    "tags": []
   },
   "source": [
    "## 25th Middlesex\n",
    "\n",
    "\n",
    "This is the only State House district that is entirely contained within Cambridge. It was unchanged in the 2021 redistricting, so we can effectively compare historical voting patterns. This seat has been occupied by Marjorie Decker since 2012."
   ]
  },
  {
   "cell_type": "markdown",
   "id": "39835162-036f-4768-ad36-a0e89b640033",
   "metadata": {
    "editable": true,
    "slideshow": {
     "slide_type": ""
    },
    "tags": []
   },
   "source": [
    "\n",
    "### Shift in Electorate Age\n",
    "\n",
    "\n",
    "Since Decker's initial eleciton in 2012 there has been a significant decrease in the age of the electorate. In 2012 voters under 40 were 21% of all voters. In 2022 they were 46%.\n"
   ]
  },
  {
   "cell_type": "code",
   "execution_count": null,
   "id": "d7a3c4f3-d0e4-40d9-9ada-4c6a3e9c0ccb",
   "metadata": {
    "editable": true,
    "slideshow": {
     "slide_type": ""
    },
    "tags": [
     "remove-input",
     "full-width"
    ]
   },
   "outputs": [],
   "source": [
    "age_bin = 4\n",
    "age_grouped = turnout_by_year_key(primary, \"age\", age_bin)\n",
    "fig, axs = plt.subplots(\n",
    "    1,\n",
    "    2,\n",
    ")\n",
    "lw = 2\n",
    "for year in YEARS:\n",
    "    mid_points = age_grouped.loc[year][\"mid_points\"]\n",
    "    # if year in challenger_years:\n",
    "    #     lw = 4\n",
    "    # else:\n",
    "    #     lw = 2\n",
    "    axs[0].plot(\n",
    "        mid_points, age_grouped.loc[year][\"voted\"], marker=\"o\", label=year, linewidth=lw\n",
    "    )\n",
    "    axs[1].plot(\n",
    "        mid_points,\n",
    "        age_grouped.loc[year][\"turnout\"] * 100,\n",
    "        marker=\"o\",\n",
    "        label=year,\n",
    "        linewidth=lw,\n",
    "    )\n",
    "    # (age_grouping.loc[year]['turnout']*100).plot(marker='o', label=year, ax=axs[1])\n",
    "axs[0].legend()\n",
    "axs[1].set_title(\"Turnout %\")\n",
    "axs[0].set_title(\"Number of Voters\")\n",
    "axs[0].set_ylabel(\"Number Voters\")\n",
    "axs[1].set_ylabel(\"Percent\")\n",
    "axs[0].set_xlim([18, 78])\n",
    "axs[1].set_xlim([18, 78])\n",
    "fig.supxlabel(f\"Age ({age_bin} year bins)\")\n",
    "plt.tight_layout()"
   ]
  },
  {
   "cell_type": "code",
   "execution_count": null,
   "id": "c24b5fdf-2d3a-4c74-8749-e9399365c992",
   "metadata": {
    "editable": true,
    "slideshow": {
     "slide_type": ""
    },
    "tags": [
     "full-width",
     "remove-input"
    ]
   },
   "outputs": [],
   "source": [
    "fig, axs = multi_year_bar(\n",
    "    age_grouped, turnout_bar_graph, years_per_row=3, figsize=(16, 8)\n",
    ")\n",
    "fig.supxlabel(f\"Age ({age_bin} year bins)\")\n",
    "fig.supylabel(\"Number of voters\")\n",
    "axs[-1][-1].legend()\n",
    "axs[-1, -1].set_xlim([17.5, 85])\n",
    "plt.tight_layout();"
   ]
  },
  {
   "cell_type": "markdown",
   "id": "bc5580dc-e1f5-43bc-ad69-4c3cbf12bead",
   "metadata": {
    "editable": true,
    "slideshow": {
     "slide_type": ""
    },
    "tags": []
   },
   "source": [
    "### Never had opportunity to vote for Decker\n",
    "\n",
    "As of October 28th 2023 there were 2343 people registered to vote in the 25th Middlesex who registered after the November 2022 elections. These people have never had an opportunity to vote for Decker. These voters skew young, with a huge majority of them being under 40.\n",
    "\n",
    "By the September 2024 primaries we can expect this number have increased as more people move to Cambridge and register, especially given the like voter registration drives that will occur for the presidential election. For example in 2020, 2445 people registered to vote in the 25th between January 1st and 10 days before the primary."
   ]
  },
  {
   "cell_type": "code",
   "execution_count": null,
   "id": "2e4f60a7-d0b8-432a-b57e-20a2da75830e",
   "metadata": {
    "editable": true,
    "slideshow": {
     "slide_type": ""
    },
    "tags": []
   },
   "outputs": [],
   "source": [
    "bins = np.arange(17, 100, age_bin)\n",
    "never_decker = cur_registered_df[\n",
    "    cur_registered_df[\"Date of Registration\"] > pd.to_datetime(\"2022-11-10\")\n",
    "]\n",
    "plt.subplots()\n",
    "never_decker[\"age\"].hist(bins=bins)\n",
    "plt.title(\"Registered after November 2022\")\n",
    "plt.ylabel(\"Number\")\n",
    "plt.xlabel(f\"Age ({age_bin} year bins)\");"
   ]
  },
  {
   "cell_type": "code",
   "execution_count": null,
   "id": "7f15b48d-e427-44b4-8b51-68b9426aa390",
   "metadata": {
    "editable": true,
    "slideshow": {
     "slide_type": ""
    },
    "tags": []
   },
   "outputs": [],
   "source": []
  }
 ],
 "metadata": {
  "kernelspec": {
   "display_name": "Python 3 (ipykernel)",
   "language": "python",
   "name": "python3"
  },
  "language_info": {
   "codemirror_mode": {
    "name": "ipython",
    "version": 3
   },
   "file_extension": ".py",
   "mimetype": "text/x-python",
   "name": "python",
   "nbconvert_exporter": "python",
   "pygments_lexer": "ipython3",
   "version": "3.11.5"
  }
 },
 "nbformat": 4,
 "nbformat_minor": 5
}
